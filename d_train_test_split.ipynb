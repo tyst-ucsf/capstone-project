{
 "cells": [
  {
   "cell_type": "markdown",
   "id": "ecbd09e2-8746-4eaf-b110-2c09499aa423",
   "metadata": {},
   "source": [
    "Train/Test split data"
   ]
  },
  {
   "cell_type": "markdown",
   "id": "a9b2cf2a-d58b-4edd-8d3e-0fd344b22a01",
   "metadata": {
    "execution": {
     "iopub.execute_input": "2025-05-06T12:48:31.399560Z",
     "iopub.status.busy": "2025-05-06T12:48:31.398804Z",
     "iopub.status.idle": "2025-05-06T12:48:31.410214Z",
     "shell.execute_reply": "2025-05-06T12:48:31.408999Z",
     "shell.execute_reply.started": "2025-05-06T12:48:31.399512Z"
    }
   },
   "source": [
    "Note to self:\n",
    "**Next Steps**\n",
    "    \n",
    "* Feature Selection\n",
    "    * Run SVM with Recursive Feature Elimination (SVM-RFE) to reduce the 82 VOC features to a smaller predictive set\n",
    "    * Run LASSO logistic regression to identify important VOC features\n",
    "    * Compare the feature sets selected by both methods\n",
    "\n",
    "* Model Training and Evaluation\n",
    "    * Train predictive models (SVM, logistic regression, etc.) using selected features\n",
    "    * Evaluate model performance using ROC-AUC, sensitivity, and specificity\n",
    "    * Benchmark results against target triage test accuracy\n",
    "\n",
    "* Cross-Validation\n",
    "    * Apply k-fold cross-validation to assess model stability and prevent overfitting\n",
    "\n",
    "* Results and Interpretation\n",
    "    * Finalize the list of key VOCs identified by SVM-RFE and LASSO\n",
    "    * Interpret the biological and chemical relevance of selected VOCs\n",
    "    * Prepare tables and plots for reporting, including feature importance and ROC curves"
   ]
  },
  {
   "cell_type": "code",
   "execution_count": null,
   "id": "715b7a7b-487c-4bb8-8c9d-75a582c97b64",
   "metadata": {},
   "outputs": [],
   "source": []
  }
 ],
 "metadata": {
  "kernelspec": {
   "display_name": "Python 3 (ipykernel)",
   "language": "python",
   "name": "python3"
  },
  "language_info": {
   "codemirror_mode": {
    "name": "ipython",
    "version": 3
   },
   "file_extension": ".py",
   "mimetype": "text/x-python",
   "name": "python",
   "nbconvert_exporter": "python",
   "pygments_lexer": "ipython3",
   "version": "3.10.11"
  }
 },
 "nbformat": 4,
 "nbformat_minor": 5
}
