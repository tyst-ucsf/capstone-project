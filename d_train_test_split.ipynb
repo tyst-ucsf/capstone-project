{
 "cells": [
  {
   "cell_type": "markdown",
   "id": "ecbd09e2-8746-4eaf-b110-2c09499aa423",
   "metadata": {},
   "source": [
    "Train/Test"
   ]
  },
  {
   "cell_type": "markdown",
   "id": "a9b2cf2a-d58b-4edd-8d3e-0fd344b22a01",
   "metadata": {
    "execution": {
     "iopub.execute_input": "2025-05-06T12:48:31.399560Z",
     "iopub.status.busy": "2025-05-06T12:48:31.398804Z",
     "iopub.status.idle": "2025-05-06T12:48:31.410214Z",
     "shell.execute_reply": "2025-05-06T12:48:31.408999Z",
     "shell.execute_reply.started": "2025-05-06T12:48:31.399512Z"
    }
   },
   "source": [
    "Note to self:\n",
    "**Next Steps**\n",
    "    \n",
    "* Feature Selection\n",
    "    * Run SVM with Recursive Feature Elimination (SVM-RFE) to reduce the 82 VOC features to a smaller predictive set\n",
    "    * Run LASSO logistic regression to identify important VOC features\n",
    "    * Compare the feature sets selected by both methods\n",
    "\n",
    "* Model Training and Evaluation\n",
    "    * Train predictive models (SVM, logistic regression, etc.) using selected features\n",
    "    * Evaluate model performance using ROC-AUC, sensitivity, and specificity\n",
    "    * Benchmark results against target triage test accuracy\n",
    "\n",
    "* Cross-Validation\n",
    "    * Apply k-fold cross-validation to assess model stability and prevent overfitting\n",
    "\n",
    "* Results and Interpretation\n",
    "    * Finalize the list of key VOCs identified by SVM-RFE and LASSO\n",
    "    * Interpret the biological and chemical relevance of selected VOCs\n",
    "    * Prepare tables and plots for reporting, including feature importance and ROC curves"
   ]
  },
  {
   "cell_type": "code",
   "execution_count": 80,
   "id": "715b7a7b-487c-4bb8-8c9d-75a582c97b64",
   "metadata": {
    "execution": {
     "iopub.execute_input": "2025-05-15T14:05:41.599027Z",
     "iopub.status.busy": "2025-05-15T14:05:41.598690Z",
     "iopub.status.idle": "2025-05-15T14:05:41.604879Z",
     "shell.execute_reply": "2025-05-15T14:05:41.604094Z",
     "shell.execute_reply.started": "2025-05-15T14:05:41.599002Z"
    }
   },
   "outputs": [],
   "source": [
    "import pandas as pd\n",
    "import numpy as np\n",
    "import matplotlib.pyplot as plt\n",
    "\n",
    "from sklearn.svm import LinearSVC\n",
    "from sklearn.feature_selection import RFE\n",
    "from sklearn.model_selection import StratifiedKFold, cross_val_score\n",
    "from sklearn.pipeline import Pipeline\n",
    "\n",
    "from sklearn.linear_model import LogisticRegression\n",
    "\n"
   ]
  },
  {
   "cell_type": "code",
   "execution_count": 60,
   "id": "a230b83d-22bd-4e94-854c-92f1abd3f5d5",
   "metadata": {
    "execution": {
     "iopub.execute_input": "2025-05-15T13:14:49.855236Z",
     "iopub.status.busy": "2025-05-15T13:14:49.855077Z",
     "iopub.status.idle": "2025-05-15T13:14:49.861164Z",
     "shell.execute_reply": "2025-05-15T13:14:49.860886Z",
     "shell.execute_reply.started": "2025-05-15T13:14:49.855223Z"
    }
   },
   "outputs": [],
   "source": [
    "# Remove identifiers and non-feature columns. Right now only worrying about VOCs, not demographics yet.\n",
    "df_main = pd.read_csv(\"df_main_normalized.csv\")\n",
    "\n",
    "y = df_main[\"TB Status\"]  # Target\n",
    "X = df_main.drop(columns=[\"PID\", \"TB Status\", \"Age\", \"BMI\", \"HIV Status\"])  # Features without demographics for now"
   ]
  },
  {
   "cell_type": "code",
   "execution_count": 61,
   "id": "11850097-39a9-4489-b4eb-0c97d32bd1d3",
   "metadata": {
    "execution": {
     "iopub.execute_input": "2025-05-15T13:14:51.340246Z",
     "iopub.status.busy": "2025-05-15T13:14:51.339670Z",
     "iopub.status.idle": "2025-05-15T13:14:51.403578Z",
     "shell.execute_reply": "2025-05-15T13:14:51.403213Z",
     "shell.execute_reply.started": "2025-05-15T13:14:51.340208Z"
    }
   },
   "outputs": [
    {
     "name": "stdout",
     "output_type": "stream",
     "text": [
      "0\n",
      "0\n",
      "       000067-64-1_group2  000067-68-5_group1  000074-95-3_group1  \\\n",
      "count        2.520000e+02        2.520000e+02        2.520000e+02   \n",
      "mean        -1.480766e-11       -2.779198e-12       -3.772503e-12   \n",
      "std          1.001990e+00        1.001990e+00        1.001990e+00   \n",
      "min         -2.224944e+00       -2.348779e+00       -2.196138e+00   \n",
      "25%         -7.734952e-01       -7.300907e-01       -7.045295e-01   \n",
      "50%         -2.137475e-01       -6.030144e-02        8.827696e-03   \n",
      "75%          7.690749e-01        6.804719e-01        6.977451e-01   \n",
      "max          2.517998e+00        2.899073e+00        2.669160e+00   \n",
      "\n",
      "       000074-97-5_group1  000077-68-9_group1  000078-79-5_group2  \\\n",
      "count        2.520000e+02        2.520000e+02        2.520000e+02   \n",
      "mean         7.572130e-12        7.314981e-12       -7.758506e-12   \n",
      "std          1.001990e+00        1.001990e+00        1.001990e+00   \n",
      "min         -1.275666e+00       -2.304197e+00       -1.125893e+00   \n",
      "25%         -7.231297e-01       -6.754114e-01       -6.534041e-01   \n",
      "50%         -4.472598e-01       -5.100983e-03       -2.956441e-01   \n",
      "75%          6.942564e-01        5.540502e-01        3.362443e-01   \n",
      "max          5.567737e+00        4.546309e+00        4.581753e+00   \n",
      "\n",
      "       000078-93-3_group1  000086-73-7_group1  000090-05-1_group1  \\\n",
      "count        2.520000e+02        2.520000e+02        2.520000e+02   \n",
      "mean        -9.045546e-12        6.688139e-12        5.721568e-12   \n",
      "std          1.001990e+00        1.001990e+00        1.001990e+00   \n",
      "min         -2.377978e+00       -2.361271e+00       -2.136684e+00   \n",
      "25%         -7.144740e-01       -7.593364e-01       -6.478869e-01   \n",
      "50%         -1.306521e-01        7.671611e-03       -5.989826e-02   \n",
      "75%          6.390576e-01        6.692279e-01        6.347371e-01   \n",
      "max          5.273843e+00        3.142285e+00        4.069148e+00   \n",
      "\n",
      "       000091-20-3_group1  ...  052195-40-1_group3  054446-78-5_group1  \\\n",
      "count        2.520000e+02  ...        2.520000e+02        2.520000e+02   \n",
      "mean         3.630112e-13  ...       -6.875754e-12       -1.070357e-11   \n",
      "std          1.001990e+00  ...        1.001990e+00        1.001990e+00   \n",
      "min         -2.144400e+00  ...       -1.594933e+00       -2.127101e+00   \n",
      "25%         -7.354718e-01  ...       -7.760562e-01       -7.162130e-01   \n",
      "50%         -6.170721e-03  ...       -2.060771e-01       -1.459012e-01   \n",
      "75%          6.763098e-01  ...        4.679289e-01        5.519476e-01   \n",
      "max          3.046767e+00  ...        6.209080e+00        4.284325e+00   \n",
      "\n",
      "       063521-76-6_group3  095798-15-5_group1  1000132-10-9_group2  \\\n",
      "count        2.520000e+02        2.520000e+02         2.520000e+02   \n",
      "mean         1.340998e-10       -1.157761e-11         6.736072e-12   \n",
      "std          1.001990e+00        1.001990e+00         1.001990e+00   \n",
      "min         -2.382335e+00       -8.223069e-01        -2.624382e+00   \n",
      "25%         -6.876629e-01       -6.202277e-01        -6.512448e-01   \n",
      "50%         -1.744159e-01       -3.157384e-01        -9.697628e-03   \n",
      "75%          6.420722e-01        1.977058e-01         6.587856e-01   \n",
      "max          2.913099e+00        5.975538e+00         2.642856e+00   \n",
      "\n",
      "       1000308-17-8_group1  1000309-13-0_group1  1000386-40-2_group1  \\\n",
      "count         2.520000e+02         2.520000e+02         2.520000e+02   \n",
      "mean          1.582407e-11         1.479098e-11        -2.754292e-11   \n",
      "std           1.001990e+00         1.001990e+00         1.001990e+00   \n",
      "min          -2.354180e+00        -1.494154e+00        -1.896423e+00   \n",
      "25%          -7.799387e-01        -7.181024e-01        -7.303519e-01   \n",
      "50%          -1.319822e-01        -2.293545e-01        -2.076216e-01   \n",
      "75%           7.194375e-01         4.099185e-01         4.714431e-01   \n",
      "max           3.230676e+00         4.675531e+00         4.200008e+00   \n",
      "\n",
      "       1000401-12-0_group1  1000417-00-6_group1  \n",
      "count         2.520000e+02         2.520000e+02  \n",
      "mean          4.485498e-12        -4.760587e-12  \n",
      "std           1.001990e+00         1.001990e+00  \n",
      "min          -2.670877e+00        -2.235814e+00  \n",
      "25%          -6.847764e-01        -7.377542e-01  \n",
      "50%          -4.080274e-02        -1.338115e-01  \n",
      "75%           6.555052e-01         5.971537e-01  \n",
      "max           2.763961e+00         2.833945e+00  \n",
      "\n",
      "[8 rows x 82 columns]\n",
      "0\n"
     ]
    }
   ],
   "source": [
    "# QC Checks\n",
    "print(np.isnan(X).sum().sum())\n",
    "print(np.isinf(X).sum().sum())\n",
    "print(X.describe())\n",
    "print((X.std() == 0).sum())  # Number of zero-variance features"
   ]
  },
  {
   "cell_type": "markdown",
   "id": "ec86cd15-8e85-44b9-8be0-0627411aae7a",
   "metadata": {},
   "source": [
    "Above sets up the data and removes the target from the features.\n",
    "\n",
    "The next cell below is to figure out what number of features is appropriate for SVM-RFE."
   ]
  },
  {
   "cell_type": "code",
   "execution_count": 63,
   "id": "2072f208-c997-4689-a031-976bb4203289",
   "metadata": {
    "execution": {
     "iopub.execute_input": "2025-05-15T13:15:01.708758Z",
     "iopub.status.busy": "2025-05-15T13:15:01.708104Z",
     "iopub.status.idle": "2025-05-15T13:15:01.714036Z",
     "shell.execute_reply": "2025-05-15T13:15:01.712923Z",
     "shell.execute_reply.started": "2025-05-15T13:15:01.708709Z"
    }
   },
   "outputs": [],
   "source": [
    "# I trust my model and the ROC-AUC is stable so I'm going to supress some warnings for a cleaner output\n",
    "import warnings\n",
    "warnings.filterwarnings(\"ignore\", message=\".*invalid value encountered in matmul.*\")\n",
    "warnings.filterwarnings(\"ignore\", message=\".*divide by zero encountered in matmul.*\")\n",
    "warnings.filterwarnings(\"ignore\", message=\".*overflow encountered in matmul.*\")"
   ]
  },
  {
   "cell_type": "markdown",
   "id": "b361df41-0348-419d-b8bc-f7437c8287bd",
   "metadata": {},
   "source": [
    "****SVM-RFE SECTION****"
   ]
  },
  {
   "cell_type": "code",
   "execution_count": 70,
   "id": "4dbd07c6-aa61-4768-9940-41bb3434faea",
   "metadata": {
    "execution": {
     "iopub.execute_input": "2025-05-15T13:21:46.661268Z",
     "iopub.status.busy": "2025-05-15T13:21:46.660662Z",
     "iopub.status.idle": "2025-05-15T13:21:48.787521Z",
     "shell.execute_reply": "2025-05-15T13:21:48.787240Z",
     "shell.execute_reply.started": "2025-05-15T13:21:46.661221Z"
    },
    "scrolled": true
   },
   "outputs": [
    {
     "name": "stdout",
     "output_type": "stream",
     "text": [
      "5 features → ROC-AUC: 0.813\n",
      "10 features → ROC-AUC: 0.809\n",
      "15 features → ROC-AUC: 0.777\n",
      "20 features → ROC-AUC: 0.761\n",
      "25 features → ROC-AUC: 0.753\n",
      "30 features → ROC-AUC: 0.759\n",
      "35 features → ROC-AUC: 0.743\n",
      "40 features → ROC-AUC: 0.724\n"
     ]
    },
    {
     "data": {
      "image/png": "[encoded data removed]",
      "text/plain": [
       "<Figure size 640x480 with 1 Axes>"
      ]
     },
     "metadata": {},
     "output_type": "display_data"
    }
   ],
   "source": [
    "# Config\n",
    "svc = LinearSVC(C=1, max_iter=10000)\n",
    "cv = StratifiedKFold(n_splits=5, shuffle=True, random_state=42)\n",
    "feature_counts = list(range(5, min(41, X.shape[1]), 5))\n",
    "scores = []\n",
    "\n",
    "# Sweep\n",
    "for n in feature_counts:\n",
    "    pipeline = Pipeline([\n",
    "        (\"feature_selection\", RFE(estimator=svc, n_features_to_select=n)),\n",
    "        (\"classifier\", svc)\n",
    "    ])\n",
    "    score = cross_val_score(pipeline, X, y, cv=cv, scoring='roc_auc').mean()\n",
    "    scores.append(score)\n",
    "    print(f\"{n} features → ROC-AUC: {score:.3f}\")\n",
    "\n",
    "# Plot\n",
    "plt.plot(feature_counts, scores, marker='o')\n",
    "plt.xlabel(\"Number of Features Selected\")\n",
    "plt.ylabel(\"Mean ROC-AUC\")\n",
    "plt.title(\"SVM-RFE Sweep\")\n",
    "plt.grid(True)\n",
    "plt.tight_layout()\n",
    "plt.show()"
   ]
  },
  {
   "cell_type": "markdown",
   "id": "4be3b799-8d09-4bbf-90b0-67620ee8f77b",
   "metadata": {},
   "source": [
    "**Note to Self** I'm getting a ton of runtime warnings related to divide by zero encoutered. I'm guessing this is due to zero variance in some columns maybe? Everything normalized well so I dont think it's a skew issue. Going to try to run a variance filter.\n",
    "\n",
    "Tried the variance filter. it didn't drop anything so these errors are something else...\n",
    "\n"
   ]
  },
  {
   "cell_type": "markdown",
   "id": "4e78fff9-2353-4d5a-b4cc-bae91d0225ff",
   "metadata": {},
   "source": [
    "Based off of the ROC-AUC, we are selecting 5 features"
   ]
  },
  {
   "cell_type": "code",
   "execution_count": 71,
   "id": "413354f8-8ead-46ad-9779-483ebe2ce7db",
   "metadata": {
    "execution": {
     "iopub.execute_input": "2025-05-15T13:22:36.655201Z",
     "iopub.status.busy": "2025-05-15T13:22:36.654488Z",
     "iopub.status.idle": "2025-05-15T13:22:36.755903Z",
     "shell.execute_reply": "2025-05-15T13:22:36.755647Z",
     "shell.execute_reply.started": "2025-05-15T13:22:36.655153Z"
    }
   },
   "outputs": [
    {
     "data": {
      "text/html": [
       "<style>#sk-container-id-8 {\n",
       "  /* Definition of color scheme common for light and dark mode */\n",
       "  --sklearn-color-text: #000;\n",
       "  --sklearn-color-text-muted: #666;\n",
       "  --sklearn-color-line: gray;\n",
       "  /* Definition of color scheme for unfitted estimators */\n",
       "  --sklearn-color-unfitted-level-0: #fff5e6;\n",
       "  --sklearn-color-unfitted-level-1: #f6e4d2;\n",
       "  --sklearn-color-unfitted-level-2: #ffe0b3;\n",
       "  --sklearn-color-unfitted-level-3: chocolate;\n",
       "  /* Definition of color scheme for fitted estimators */\n",
       "  --sklearn-color-fitted-level-0: #f0f8ff;\n",
       "  --sklearn-color-fitted-level-1: #d4ebff;\n",
       "  --sklearn-color-fitted-level-2: #b3dbfd;\n",
       "  --sklearn-color-fitted-level-3: cornflowerblue;\n",
       "\n",
       "  /* Specific color for light theme */\n",
       "  --sklearn-color-text-on-default-background: var(--sg-text-color, var(--theme-code-foreground, var(--jp-content-font-color1, black)));\n",
       "  --sklearn-color-background: var(--sg-background-color, var(--theme-background, var(--jp-layout-color0, white)));\n",
       "  --sklearn-color-border-box: var(--sg-text-color, var(--theme-code-foreground, var(--jp-content-font-color1, black)));\n",
       "  --sklearn-color-icon: #696969;\n",
       "\n",
       "  @media (prefers-color-scheme: dark) {\n",
       "    /* Redefinition of color scheme for dark theme */\n",
       "    --sklearn-color-text-on-default-background: var(--sg-text-color, var(--theme-code-foreground, var(--jp-content-font-color1, white)));\n",
       "    --sklearn-color-background: var(--sg-background-color, var(--theme-background, var(--jp-layout-color0, #111)));\n",
       "    --sklearn-color-border-box: var(--sg-text-color, var(--theme-code-foreground, var(--jp-content-font-color1, white)));\n",
       "    --sklearn-color-icon: #878787;\n",
       "  }\n",
       "}\n",
       "\n",
       "#sk-container-id-8 {\n",
       "  color: var(--sklearn-color-text);\n",
       "}\n",
       "\n",
       "#sk-container-id-8 pre {\n",
       "  padding: 0;\n",
       "}\n",
       "\n",
       "#sk-container-id-8 input.sk-hidden--visually {\n",
       "  border: 0;\n",
       "  clip: rect(1px 1px 1px 1px);\n",
       "  clip: rect(1px, 1px, 1px, 1px);\n",
       "  height: 1px;\n",
       "  margin: -1px;\n",
       "  overflow: hidden;\n",
       "  padding: 0;\n",
       "  position: absolute;\n",
       "  width: 1px;\n",
       "}\n",
       "\n",
       "#sk-container-id-8 div.sk-dashed-wrapped {\n",
       "  border: 1px dashed var(--sklearn-color-line);\n",
       "  margin: 0 0.4em 0.5em 0.4em;\n",
       "  box-sizing: border-box;\n",
       "  padding-bottom: 0.4em;\n",
       "  background-color: var(--sklearn-color-background);\n",
       "}\n",
       "\n",
       "#sk-container-id-8 div.sk-container {\n",
       "  /* jupyter's `normalize.less` sets `[hidden] { display: none; }`\n",
       "     but bootstrap.min.css set `[hidden] { display: none !important; }`\n",
       "     so we also need the `!important` here to be able to override the\n",
       "     default hidden behavior on the sphinx rendered scikit-learn.org.\n",
       "     See: https://github.com/scikit-learn/scikit-learn/issues/21755 */\n",
       "  display: inline-block !important;\n",
       "  position: relative;\n",
       "}\n",
       "\n",
       "#sk-container-id-8 div.sk-text-repr-fallback {\n",
       "  display: none;\n",
       "}\n",
       "\n",
       "div.sk-parallel-item,\n",
       "div.sk-serial,\n",
       "div.sk-item {\n",
       "  /* draw centered vertical line to link estimators */\n",
       "  background-image: linear-gradient(var(--sklearn-color-text-on-default-background), var(--sklearn-color-text-on-default-background));\n",
       "  background-size: 2px 100%;\n",
       "  background-repeat: no-repeat;\n",
       "  background-position: center center;\n",
       "}\n",
       "\n",
       "/* Parallel-specific style estimator block */\n",
       "\n",
       "#sk-container-id-8 div.sk-parallel-item::after {\n",
       "  content: \"\";\n",
       "  width: 100%;\n",
       "  border-bottom: 2px solid var(--sklearn-color-text-on-default-background);\n",
       "  flex-grow: 1;\n",
       "}\n",
       "\n",
       "#sk-container-id-8 div.sk-parallel {\n",
       "  display: flex;\n",
       "  align-items: stretch;\n",
       "  justify-content: center;\n",
       "  background-color: var(--sklearn-color-background);\n",
       "  position: relative;\n",
       "}\n",
       "\n",
       "#sk-container-id-8 div.sk-parallel-item {\n",
       "  display: flex;\n",
       "  flex-direction: column;\n",
       "}\n",
       "\n",
       "#sk-container-id-8 div.sk-parallel-item:first-child::after {\n",
       "  align-self: flex-end;\n",
       "  width: 50%;\n",
       "}\n",
       "\n",
       "#sk-container-id-8 div.sk-parallel-item:last-child::after {\n",
       "  align-self: flex-start;\n",
       "  width: 50%;\n",
       "}\n",
       "\n",
       "#sk-container-id-8 div.sk-parallel-item:only-child::after {\n",
       "  width: 0;\n",
       "}\n",
       "\n",
       "/* Serial-specific style estimator block */\n",
       "\n",
       "#sk-container-id-8 div.sk-serial {\n",
       "  display: flex;\n",
       "  flex-direction: column;\n",
       "  align-items: center;\n",
       "  background-color: var(--sklearn-color-background);\n",
       "  padding-right: 1em;\n",
       "  padding-left: 1em;\n",
       "}\n",
       "\n",
       "\n",
       "/* Toggleable style: style used for estimator/Pipeline/ColumnTransformer box that is\n",
       "clickable and can be expanded/collapsed.\n",
       "- Pipeline and ColumnTransformer use this feature and define the default style\n",
       "- Estimators will overwrite some part of the style using the `sk-estimator` class\n",
       "*/\n",
       "\n",
       "/* Pipeline and ColumnTransformer style (default) */\n",
       "\n",
       "#sk-container-id-8 div.sk-toggleable {\n",
       "  /* Default theme specific background. It is overwritten whether we have a\n",
       "  specific estimator or a Pipeline/ColumnTransformer */\n",
       "  background-color: var(--sklearn-color-background);\n",
       "}\n",
       "\n",
       "/* Toggleable label */\n",
       "#sk-container-id-8 label.sk-toggleable__label {\n",
       "  cursor: pointer;\n",
       "  display: flex;\n",
       "  width: 100%;\n",
       "  margin-bottom: 0;\n",
       "  padding: 0.5em;\n",
       "  box-sizing: border-box;\n",
       "  text-align: center;\n",
       "  align-items: start;\n",
       "  justify-content: space-between;\n",
       "  gap: 0.5em;\n",
       "}\n",
       "\n",
       "#sk-container-id-8 label.sk-toggleable__label .caption {\n",
       "  font-size: 0.6rem;\n",
       "  font-weight: lighter;\n",
       "  color: var(--sklearn-color-text-muted);\n",
       "}\n",
       "\n",
       "#sk-container-id-8 label.sk-toggleable__label-arrow:before {\n",
       "  /* Arrow on the left of the label */\n",
       "  content: \"▸\";\n",
       "  float: left;\n",
       "  margin-right: 0.25em;\n",
       "  color: var(--sklearn-color-icon);\n",
       "}\n",
       "\n",
       "#sk-container-id-8 label.sk-toggleable__label-arrow:hover:before {\n",
       "  color: var(--sklearn-color-text);\n",
       "}\n",
       "\n",
       "/* Toggleable content - dropdown */\n",
       "\n",
       "#sk-container-id-8 div.sk-toggleable__content {\n",
       "  max-height: 0;\n",
       "  max-width: 0;\n",
       "  overflow: hidden;\n",
       "  text-align: left;\n",
       "  /* unfitted */\n",
       "  background-color: var(--sklearn-color-unfitted-level-0);\n",
       "}\n",
       "\n",
       "#sk-container-id-8 div.sk-toggleable__content.fitted {\n",
       "  /* fitted */\n",
       "  background-color: var(--sklearn-color-fitted-level-0);\n",
       "}\n",
       "\n",
       "#sk-container-id-8 div.sk-toggleable__content pre {\n",
       "  margin: 0.2em;\n",
       "  border-radius: 0.25em;\n",
       "  color: var(--sklearn-color-text);\n",
       "  /* unfitted */\n",
       "  background-color: var(--sklearn-color-unfitted-level-0);\n",
       "}\n",
       "\n",
       "#sk-container-id-8 div.sk-toggleable__content.fitted pre {\n",
       "  /* unfitted */\n",
       "  background-color: var(--sklearn-color-fitted-level-0);\n",
       "}\n",
       "\n",
       "#sk-container-id-8 input.sk-toggleable__control:checked~div.sk-toggleable__content {\n",
       "  /* Expand drop-down */\n",
       "  max-height: 200px;\n",
       "  max-width: 100%;\n",
       "  overflow: auto;\n",
       "}\n",
       "\n",
       "#sk-container-id-8 input.sk-toggleable__control:checked~label.sk-toggleable__label-arrow:before {\n",
       "  content: \"▾\";\n",
       "}\n",
       "\n",
       "/* Pipeline/ColumnTransformer-specific style */\n",
       "\n",
       "#sk-container-id-8 div.sk-label input.sk-toggleable__control:checked~label.sk-toggleable__label {\n",
       "  color: var(--sklearn-color-text);\n",
       "  background-color: var(--sklearn-color-unfitted-level-2);\n",
       "}\n",
       "\n",
       "#sk-container-id-8 div.sk-label.fitted input.sk-toggleable__control:checked~label.sk-toggleable__label {\n",
       "  background-color: var(--sklearn-color-fitted-level-2);\n",
       "}\n",
       "\n",
       "/* Estimator-specific style */\n",
       "\n",
       "/* Colorize estimator box */\n",
       "#sk-container-id-8 div.sk-estimator input.sk-toggleable__control:checked~label.sk-toggleable__label {\n",
       "  /* unfitted */\n",
       "  background-color: var(--sklearn-color-unfitted-level-2);\n",
       "}\n",
       "\n",
       "#sk-container-id-8 div.sk-estimator.fitted input.sk-toggleable__control:checked~label.sk-toggleable__label {\n",
       "  /* fitted */\n",
       "  background-color: var(--sklearn-color-fitted-level-2);\n",
       "}\n",
       "\n",
       "#sk-container-id-8 div.sk-label label.sk-toggleable__label,\n",
       "#sk-container-id-8 div.sk-label label {\n",
       "  /* The background is the default theme color */\n",
       "  color: var(--sklearn-color-text-on-default-background);\n",
       "}\n",
       "\n",
       "/* On hover, darken the color of the background */\n",
       "#sk-container-id-8 div.sk-label:hover label.sk-toggleable__label {\n",
       "  color: var(--sklearn-color-text);\n",
       "  background-color: var(--sklearn-color-unfitted-level-2);\n",
       "}\n",
       "\n",
       "/* Label box, darken color on hover, fitted */\n",
       "#sk-container-id-8 div.sk-label.fitted:hover label.sk-toggleable__label.fitted {\n",
       "  color: var(--sklearn-color-text);\n",
       "  background-color: var(--sklearn-color-fitted-level-2);\n",
       "}\n",
       "\n",
       "/* Estimator label */\n",
       "\n",
       "#sk-container-id-8 div.sk-label label {\n",
       "  font-family: monospace;\n",
       "  font-weight: bold;\n",
       "  display: inline-block;\n",
       "  line-height: 1.2em;\n",
       "}\n",
       "\n",
       "#sk-container-id-8 div.sk-label-container {\n",
       "  text-align: center;\n",
       "}\n",
       "\n",
       "/* Estimator-specific */\n",
       "#sk-container-id-8 div.sk-estimator {\n",
       "  font-family: monospace;\n",
       "  border: 1px dotted var(--sklearn-color-border-box);\n",
       "  border-radius: 0.25em;\n",
       "  box-sizing: border-box;\n",
       "  margin-bottom: 0.5em;\n",
       "  /* unfitted */\n",
       "  background-color: var(--sklearn-color-unfitted-level-0);\n",
       "}\n",
       "\n",
       "#sk-container-id-8 div.sk-estimator.fitted {\n",
       "  /* fitted */\n",
       "  background-color: var(--sklearn-color-fitted-level-0);\n",
       "}\n",
       "\n",
       "/* on hover */\n",
       "#sk-container-id-8 div.sk-estimator:hover {\n",
       "  /* unfitted */\n",
       "  background-color: var(--sklearn-color-unfitted-level-2);\n",
       "}\n",
       "\n",
       "#sk-container-id-8 div.sk-estimator.fitted:hover {\n",
       "  /* fitted */\n",
       "  background-color: var(--sklearn-color-fitted-level-2);\n",
       "}\n",
       "\n",
       "/* Specification for estimator info (e.g. \"i\" and \"?\") */\n",
       "\n",
       "/* Common style for \"i\" and \"?\" */\n",
       "\n",
       ".sk-estimator-doc-link,\n",
       "a:link.sk-estimator-doc-link,\n",
       "a:visited.sk-estimator-doc-link {\n",
       "  float: right;\n",
       "  font-size: smaller;\n",
       "  line-height: 1em;\n",
       "  font-family: monospace;\n",
       "  background-color: var(--sklearn-color-background);\n",
       "  border-radius: 1em;\n",
       "  height: 1em;\n",
       "  width: 1em;\n",
       "  text-decoration: none !important;\n",
       "  margin-left: 0.5em;\n",
       "  text-align: center;\n",
       "  /* unfitted */\n",
       "  border: var(--sklearn-color-unfitted-level-1) 1pt solid;\n",
       "  color: var(--sklearn-color-unfitted-level-1);\n",
       "}\n",
       "\n",
       ".sk-estimator-doc-link.fitted,\n",
       "a:link.sk-estimator-doc-link.fitted,\n",
       "a:visited.sk-estimator-doc-link.fitted {\n",
       "  /* fitted */\n",
       "  border: var(--sklearn-color-fitted-level-1) 1pt solid;\n",
       "  color: var(--sklearn-color-fitted-level-1);\n",
       "}\n",
       "\n",
       "/* On hover */\n",
       "div.sk-estimator:hover .sk-estimator-doc-link:hover,\n",
       ".sk-estimator-doc-link:hover,\n",
       "div.sk-label-container:hover .sk-estimator-doc-link:hover,\n",
       ".sk-estimator-doc-link:hover {\n",
       "  /* unfitted */\n",
       "  background-color: var(--sklearn-color-unfitted-level-3);\n",
       "  color: var(--sklearn-color-background);\n",
       "  text-decoration: none;\n",
       "}\n",
       "\n",
       "div.sk-estimator.fitted:hover .sk-estimator-doc-link.fitted:hover,\n",
       ".sk-estimator-doc-link.fitted:hover,\n",
       "div.sk-label-container:hover .sk-estimator-doc-link.fitted:hover,\n",
       ".sk-estimator-doc-link.fitted:hover {\n",
       "  /* fitted */\n",
       "  background-color: var(--sklearn-color-fitted-level-3);\n",
       "  color: var(--sklearn-color-background);\n",
       "  text-decoration: none;\n",
       "}\n",
       "\n",
       "/* Span, style for the box shown on hovering the info icon */\n",
       ".sk-estimator-doc-link span {\n",
       "  display: none;\n",
       "  z-index: 9999;\n",
       "  position: relative;\n",
       "  font-weight: normal;\n",
       "  right: .2ex;\n",
       "  padding: .5ex;\n",
       "  margin: .5ex;\n",
       "  width: min-content;\n",
       "  min-width: 20ex;\n",
       "  max-width: 50ex;\n",
       "  color: var(--sklearn-color-text);\n",
       "  box-shadow: 2pt 2pt 4pt #999;\n",
       "  /* unfitted */\n",
       "  background: var(--sklearn-color-unfitted-level-0);\n",
       "  border: .5pt solid var(--sklearn-color-unfitted-level-3);\n",
       "}\n",
       "\n",
       ".sk-estimator-doc-link.fitted span {\n",
       "  /* fitted */\n",
       "  background: var(--sklearn-color-fitted-level-0);\n",
       "  border: var(--sklearn-color-fitted-level-3);\n",
       "}\n",
       "\n",
       ".sk-estimator-doc-link:hover span {\n",
       "  display: block;\n",
       "}\n",
       "\n",
       "/* \"?\"-specific style due to the `<a>` HTML tag */\n",
       "\n",
       "#sk-container-id-8 a.estimator_doc_link {\n",
       "  float: right;\n",
       "  font-size: 1rem;\n",
       "  line-height: 1em;\n",
       "  font-family: monospace;\n",
       "  background-color: var(--sklearn-color-background);\n",
       "  border-radius: 1rem;\n",
       "  height: 1rem;\n",
       "  width: 1rem;\n",
       "  text-decoration: none;\n",
       "  /* unfitted */\n",
       "  color: var(--sklearn-color-unfitted-level-1);\n",
       "  border: var(--sklearn-color-unfitted-level-1) 1pt solid;\n",
       "}\n",
       "\n",
       "#sk-container-id-8 a.estimator_doc_link.fitted {\n",
       "  /* fitted */\n",
       "  border: var(--sklearn-color-fitted-level-1) 1pt solid;\n",
       "  color: var(--sklearn-color-fitted-level-1);\n",
       "}\n",
       "\n",
       "/* On hover */\n",
       "#sk-container-id-8 a.estimator_doc_link:hover {\n",
       "  /* unfitted */\n",
       "  background-color: var(--sklearn-color-unfitted-level-3);\n",
       "  color: var(--sklearn-color-background);\n",
       "  text-decoration: none;\n",
       "}\n",
       "\n",
       "#sk-container-id-8 a.estimator_doc_link.fitted:hover {\n",
       "  /* fitted */\n",
       "  background-color: var(--sklearn-color-fitted-level-3);\n",
       "}\n",
       "</style><div id=\"sk-container-id-8\" class=\"sk-top-container\"><div class=\"sk-text-repr-fallback\"><pre>RFE(estimator=LinearSVC(C=1, max_iter=10000), n_features_to_select=5)</pre><b>In a Jupyter environment, please rerun this cell to show the HTML representation or trust the notebook. <br />On GitHub, the HTML representation is unable to render, please try loading this page with nbviewer.org.</b></div><div class=\"sk-container\" hidden><div class=\"sk-item sk-dashed-wrapped\"><div class=\"sk-label-container\"><div class=\"sk-label fitted sk-toggleable\"><input class=\"sk-toggleable__control sk-hidden--visually\" id=\"sk-estimator-id-22\" type=\"checkbox\" ><label for=\"sk-estimator-id-22\" class=\"sk-toggleable__label fitted sk-toggleable__label-arrow\"><div><div>RFE</div></div><div><a class=\"sk-estimator-doc-link fitted\" rel=\"noreferrer\" target=\"_blank\" href=\"https://scikit-learn.org/1.6/modules/generated/sklearn.feature_selection.RFE.html\">?<span>Documentation for RFE</span></a><span class=\"sk-estimator-doc-link fitted\">i<span>Fitted</span></span></div></label><div class=\"sk-toggleable__content fitted\"><pre>RFE(estimator=LinearSVC(C=1, max_iter=10000), n_features_to_select=5)</pre></div> </div></div><div class=\"sk-parallel\"><div class=\"sk-parallel-item\"><div class=\"sk-item\"><div class=\"sk-label-container\"><div class=\"sk-label fitted sk-toggleable\"><input class=\"sk-toggleable__control sk-hidden--visually\" id=\"sk-estimator-id-23\" type=\"checkbox\" ><label for=\"sk-estimator-id-23\" class=\"sk-toggleable__label fitted sk-toggleable__label-arrow\"><div><div>estimator: LinearSVC</div></div></label><div class=\"sk-toggleable__content fitted\"><pre>LinearSVC(C=1, max_iter=10000)</pre></div> </div></div><div class=\"sk-serial\"><div class=\"sk-item\"><div class=\"sk-estimator fitted sk-toggleable\"><input class=\"sk-toggleable__control sk-hidden--visually\" id=\"sk-estimator-id-24\" type=\"checkbox\" ><label for=\"sk-estimator-id-24\" class=\"sk-toggleable__label fitted sk-toggleable__label-arrow\"><div><div>LinearSVC</div></div><div><a class=\"sk-estimator-doc-link fitted\" rel=\"noreferrer\" target=\"_blank\" href=\"https://scikit-learn.org/1.6/modules/generated/sklearn.svm.LinearSVC.html\">?<span>Documentation for LinearSVC</span></a></div></label><div class=\"sk-toggleable__content fitted\"><pre>LinearSVC(C=1, max_iter=10000)</pre></div> </div></div></div></div></div></div></div></div></div>"
      ],
      "text/plain": [
       "RFE(estimator=LinearSVC(C=1, max_iter=10000), n_features_to_select=5)"
      ]
     },
     "execution_count": 71,
     "metadata": {},
     "output_type": "execute_result"
    }
   ],
   "source": [
    "svm = svc = LinearSVC(C=1, max_iter=10000)  # going with C=1 for now to avoid overfitting\n",
    "\n",
    "# select top 5\n",
    "rfe = RFE(estimator=svm, n_features_to_select=5, step=1)\n",
    "\n",
    "# Fit RFE model\n",
    "rfe.fit(X, y)"
   ]
  },
  {
   "cell_type": "code",
   "execution_count": 72,
   "id": "b48764d3-9339-43c0-acc0-18adda36a718",
   "metadata": {
    "execution": {
     "iopub.execute_input": "2025-05-15T13:22:42.253211Z",
     "iopub.status.busy": "2025-05-15T13:22:42.252579Z",
     "iopub.status.idle": "2025-05-15T13:22:42.262071Z",
     "shell.execute_reply": "2025-05-15T13:22:42.261132Z",
     "shell.execute_reply.started": "2025-05-15T13:22:42.253166Z"
    }
   },
   "outputs": [
    {
     "name": "stdout",
     "output_type": "stream",
     "text": [
      "Selected features: ['000078-79-5_group2', '000098-86-2_group2', '000149-57-5_group1', '001074-43-7_group1', '001762-27-2_group1']\n",
      "Top 20 ranked features:\n",
      "001074-43-7_group1     1\n",
      "000078-79-5_group2     1\n",
      "000149-57-5_group1     1\n",
      "001762-27-2_group1     1\n",
      "000098-86-2_group2     1\n",
      "000077-68-9_group1     2\n",
      "000110-98-5_group1     3\n",
      "000074-97-5_group1     4\n",
      "001122-82-3_group1     5\n",
      "027750-45-4_group1     6\n",
      "000140-11-4_group1     7\n",
      "000110-88-3_group1     8\n",
      "005989-27-5_group1     9\n",
      "000353-66-2_group1    10\n",
      "000086-73-7_group1    11\n",
      "063521-76-6_group3    12\n",
      "000067-68-5_group1    13\n",
      "015764-16-6_group1    14\n",
      "054446-78-5_group1    15\n",
      "000108-94-1_group1    16\n",
      "dtype: int64\n"
     ]
    }
   ],
   "source": [
    "selected_features = X.columns[rfe.support_]\n",
    "print(\"Selected features:\", selected_features.tolist())\n",
    "\n",
    "# Rankings (1 = selected)\n",
    "ranking = pd.Series(rfe.ranking_, index=X.columns).sort_values()\n",
    "print(\"Top 20 ranked features:\")\n",
    "print(ranking.head(20))"
   ]
  },
  {
   "cell_type": "code",
   "execution_count": 73,
   "id": "f9e845e4-9bf3-4446-bd0e-4a7284172582",
   "metadata": {
    "execution": {
     "iopub.execute_input": "2025-05-15T13:22:47.092172Z",
     "iopub.status.busy": "2025-05-15T13:22:47.091526Z",
     "iopub.status.idle": "2025-05-15T13:22:47.153392Z",
     "shell.execute_reply": "2025-05-15T13:22:47.153078Z",
     "shell.execute_reply.started": "2025-05-15T13:22:47.092129Z"
    }
   },
   "outputs": [
    {
     "data": {
      "image/png": "[encoded data removed]",
      "text/plain": [
       "<Figure size 640x480 with 1 Axes>"
      ]
     },
     "metadata": {},
     "output_type": "display_data"
    }
   ],
   "source": [
    "# Visualizing\n",
    "# Refit SVM just on selected features for coefficient extraction\n",
    "svm.fit(X[selected_features], y)\n",
    "coefs = pd.Series(np.abs(svm.coef_[0]), index=selected_features)\n",
    "\n",
    "# Plot\n",
    "coefs.sort_values().plot(kind='barh')\n",
    "plt.title(\"Feature Importance from SVM-RFE\")\n",
    "plt.xlabel(\"Absolute Coefficient\")\n",
    "plt.tight_layout()\n",
    "plt.show()"
   ]
  },
  {
   "cell_type": "markdown",
   "id": "9e2e07d5-07ce-42ef-9bf7-f10071736ac7",
   "metadata": {},
   "source": [
    "**Note to self** this makes me wonder if I should cut off the bottom 3 or 4? Make a more simple model? "
   ]
  },
  {
   "cell_type": "code",
   "execution_count": 74,
   "id": "57751b05-b599-4755-a600-44771e43f367",
   "metadata": {
    "execution": {
     "iopub.execute_input": "2025-05-15T13:24:15.681561Z",
     "iopub.status.busy": "2025-05-15T13:24:15.680383Z",
     "iopub.status.idle": "2025-05-15T13:24:16.010544Z",
     "shell.execute_reply": "2025-05-15T13:24:16.010301Z",
     "shell.execute_reply.started": "2025-05-15T13:24:15.681516Z"
    },
    "scrolled": true
   },
   "outputs": [
    {
     "name": "stdout",
     "output_type": "stream",
     "text": [
      "Mean ROC-AUC: 0.8127 ± 0.0447\n"
     ]
    }
   ],
   "source": [
    "# Cross-validate\n",
    "# Needing this LinearSVC and not just linear. The data is fine but it's breaking. Probably too many features for low number of samples?\n",
    "# LinearSVC has a better solver for higher dimensions.\n",
    "pipeline = Pipeline([\n",
    "    (\"feature_selection\", RFE(LinearSVC(C=1, max_iter=10000), n_features_to_select=5)),\n",
    "    (\"svm\", LinearSVC(C=1, max_iter=10000))\n",
    "])\n",
    "\n",
    "# Cross-validation\n",
    "cv = StratifiedKFold(n_splits=5, shuffle=True, random_state=42)  # 5 folds seems standard by literature. Random state of 42 similar to above.\n",
    "scores = cross_val_score(pipeline, X, y, cv=cv, scoring=\"roc_auc\")\n",
    "\n",
    "print(f\"Mean ROC-AUC: {scores.mean():.4f} ± {scores.std():.4f}\")"
   ]
  },
  {
   "cell_type": "markdown",
   "id": "224c7263-7c86-43c7-9c58-3b7ecac0cddd",
   "metadata": {},
   "source": [
    "****LASSO****"
   ]
  },
  {
   "cell_type": "code",
   "execution_count": 78,
   "id": "e40b5fa3-fb49-4cb2-af77-dc126f004390",
   "metadata": {
    "execution": {
     "iopub.execute_input": "2025-05-15T14:05:36.066330Z",
     "iopub.status.busy": "2025-05-15T14:05:36.065761Z",
     "iopub.status.idle": "2025-05-15T14:05:36.071603Z",
     "shell.execute_reply": "2025-05-15T14:05:36.070630Z",
     "shell.execute_reply.started": "2025-05-15T14:05:36.066303Z"
    }
   },
   "outputs": [],
   "source": [
    "# Resetting warnings for now\n",
    "# warnings.resetwarnings()"
   ]
  },
  {
   "cell_type": "code",
   "execution_count": 84,
   "id": "ce446f33-11c5-4ac6-95cb-ea92f04dbc7a",
   "metadata": {
    "execution": {
     "iopub.execute_input": "2025-05-15T14:07:52.268180Z",
     "iopub.status.busy": "2025-05-15T14:07:52.267469Z",
     "iopub.status.idle": "2025-05-15T14:07:52.310633Z",
     "shell.execute_reply": "2025-05-15T14:07:52.310129Z",
     "shell.execute_reply.started": "2025-05-15T14:07:52.268128Z"
    }
   },
   "outputs": [
    {
     "name": "stdout",
     "output_type": "stream",
     "text": [
      "Mean ROC-AUC: 0.8570 ± 0.0334\n"
     ]
    },
    {
     "name": "stderr",
     "output_type": "stream",
     "text": [
      "/Users/tylerstepaniak/Library/Python/3.10/lib/python/site-packages/sklearn/utils/extmath.py:203: RuntimeWarning: divide by zero encountered in matmul\n",
      "  ret = a @ b\n",
      "/Users/tylerstepaniak/Library/Python/3.10/lib/python/site-packages/sklearn/utils/extmath.py:203: RuntimeWarning: overflow encountered in matmul\n",
      "  ret = a @ b\n",
      "/Users/tylerstepaniak/Library/Python/3.10/lib/python/site-packages/sklearn/utils/extmath.py:203: RuntimeWarning: invalid value encountered in matmul\n",
      "  ret = a @ b\n",
      "/Users/tylerstepaniak/Library/Python/3.10/lib/python/site-packages/sklearn/utils/extmath.py:203: RuntimeWarning: divide by zero encountered in matmul\n",
      "  ret = a @ b\n",
      "/Users/tylerstepaniak/Library/Python/3.10/lib/python/site-packages/sklearn/utils/extmath.py:203: RuntimeWarning: overflow encountered in matmul\n",
      "  ret = a @ b\n",
      "/Users/tylerstepaniak/Library/Python/3.10/lib/python/site-packages/sklearn/utils/extmath.py:203: RuntimeWarning: invalid value encountered in matmul\n",
      "  ret = a @ b\n",
      "/Users/tylerstepaniak/Library/Python/3.10/lib/python/site-packages/sklearn/utils/extmath.py:203: RuntimeWarning: divide by zero encountered in matmul\n",
      "  ret = a @ b\n",
      "/Users/tylerstepaniak/Library/Python/3.10/lib/python/site-packages/sklearn/utils/extmath.py:203: RuntimeWarning: overflow encountered in matmul\n",
      "  ret = a @ b\n",
      "/Users/tylerstepaniak/Library/Python/3.10/lib/python/site-packages/sklearn/utils/extmath.py:203: RuntimeWarning: invalid value encountered in matmul\n",
      "  ret = a @ b\n",
      "/Users/tylerstepaniak/Library/Python/3.10/lib/python/site-packages/sklearn/utils/extmath.py:203: RuntimeWarning: divide by zero encountered in matmul\n",
      "  ret = a @ b\n",
      "/Users/tylerstepaniak/Library/Python/3.10/lib/python/site-packages/sklearn/utils/extmath.py:203: RuntimeWarning: overflow encountered in matmul\n",
      "  ret = a @ b\n",
      "/Users/tylerstepaniak/Library/Python/3.10/lib/python/site-packages/sklearn/utils/extmath.py:203: RuntimeWarning: invalid value encountered in matmul\n",
      "  ret = a @ b\n",
      "/Users/tylerstepaniak/Library/Python/3.10/lib/python/site-packages/sklearn/utils/extmath.py:203: RuntimeWarning: divide by zero encountered in matmul\n",
      "  ret = a @ b\n",
      "/Users/tylerstepaniak/Library/Python/3.10/lib/python/site-packages/sklearn/utils/extmath.py:203: RuntimeWarning: overflow encountered in matmul\n",
      "  ret = a @ b\n",
      "/Users/tylerstepaniak/Library/Python/3.10/lib/python/site-packages/sklearn/utils/extmath.py:203: RuntimeWarning: invalid value encountered in matmul\n",
      "  ret = a @ b\n"
     ]
    }
   ],
   "source": [
    "# LASSO with l1\n",
    "lasso = LogisticRegression(penalty='l1', solver='liblinear', C=0.10, max_iter=10000)  # A lower C means fewer features (0.5, 0.1)\n",
    "\n",
    "# CV\n",
    "cv = StratifiedKFold(n_splits=5, shuffle=True, random_state=42)\n",
    "\n",
    "pipeline = Pipeline([\n",
    "    ('lasso', lasso)\n",
    "])\n",
    "\n",
    "scores = cross_val_score(pipeline, X, y, cv=cv, scoring='roc_auc')\n",
    "print(f\"Mean ROC-AUC: {scores.mean():.4f} ± {scores.std():.4f}\")"
   ]
  },
  {
   "cell_type": "markdown",
   "id": "27e18dad-5eab-445f-b704-f2a62404b63f",
   "metadata": {},
   "source": [
    "**NOTE** These errors are the same reason as with SVM-RFE, that the dim of the data is very high while the n_sample count isn't super large as well."
   ]
  },
  {
   "cell_type": "code",
   "execution_count": 85,
   "id": "6771dc1f-dd9b-44d8-8a9e-cb144564c5a2",
   "metadata": {
    "execution": {
     "iopub.execute_input": "2025-05-15T14:10:43.514290Z",
     "iopub.status.busy": "2025-05-15T14:10:43.513631Z",
     "iopub.status.idle": "2025-05-15T14:10:43.638435Z",
     "shell.execute_reply": "2025-05-15T14:10:43.638196Z",
     "shell.execute_reply.started": "2025-05-15T14:10:43.514244Z"
    }
   },
   "outputs": [
    {
     "name": "stdout",
     "output_type": "stream",
     "text": [
      "\n",
      "LASSO-selected features with odds ratios:\n",
      "                     Log-Odds Coef  Odds Ratio\n",
      "000110-98-5_group1        0.145440    1.156549\n",
      "000470-82-6_group1       -0.001042    0.998958\n",
      "038165-93-4_group1       -0.003275    0.996731\n",
      "005989-27-5_group1       -0.020423    0.979784\n",
      "1000132-10-9_group2      -0.034798    0.965801\n",
      "000110-43-0_group1       -0.039541    0.961231\n",
      "054446-78-5_group1       -0.043074    0.957841\n",
      "063521-76-6_group3       -0.056893    0.944695\n",
      "003387-41-5_group1       -0.066426    0.935732\n",
      "000077-68-9_group1       -0.084584    0.918895\n",
      "000112-31-2_group1       -0.125626    0.881945\n",
      "000098-86-2_group2       -0.129680    0.878376\n",
      "001122-82-3_group1       -0.135823    0.872997\n",
      "000110-88-3_group1       -0.155147    0.856290\n",
      "000078-79-5_group2       -0.295506    0.744155\n",
      "000074-97-5_group1       -0.301505    0.739704\n",
      "001074-43-7_group1       -0.346248    0.707337\n",
      "001762-27-2_group1       -0.556759    0.573063\n"
     ]
    },
    {
     "data": {
      "image/png": "[encoded data removed]",
      "text/plain": [
       "<Figure size 640x480 with 1 Axes>"
      ]
     },
     "metadata": {},
     "output_type": "display_data"
    }
   ],
   "source": [
    "# Fit on full dataset\n",
    "lasso.fit(X, y)\n",
    "\n",
    "# coefficients and odds ratios\n",
    "coefs = pd.Series(lasso.coef_[0], index=X.columns)\n",
    "nonzero_coefs = coefs[coefs != 0]\n",
    "odds_ratios = np.exp(nonzero_coefs)\n",
    "\n",
    "# Combine into a df for report\n",
    "summary_df = pd.DataFrame({\n",
    "    \"Log-Odds Coef\": nonzero_coefs,\n",
    "    \"Odds Ratio\": odds_ratios\n",
    "}).sort_values(\"Odds Ratio\", ascending=False)\n",
    "\n",
    "print(\"\\nLASSO-selected features with odds ratios:\")\n",
    "print(summary_df)\n",
    "\n",
    "# visualize odds ratios\n",
    "summary_df[\"Odds Ratio\"].sort_values().plot(kind='barh')\n",
    "plt.title(\"LASSO Selected VOCs: Odds Ratios\")\n",
    "plt.xlabel(\"Odds Ratio\")\n",
    "plt.tight_layout()\n",
    "plt.show()"
   ]
  },
  {
   "cell_type": "markdown",
   "id": "7f62d249-246e-40d6-a498-234d8b1da206",
   "metadata": {},
   "source": [
    "So, LASSO chose 18 features and all but one are negative predictors with one being a positive predictor."
   ]
  },
  {
   "cell_type": "markdown",
   "id": "2135d79d-558b-4491-bd2e-a50980fba9b5",
   "metadata": {},
   "source": [
    "Was there overlap with LASSO's selection and SVM-RFE?\n",
    "YES!\n",
    "* SVM-RFE's 5 chosen were:\n",
    "    * 001762-27-2_group1\n",
    "    * 000098-86-2_group2\n",
    "    * 001074-43-7_group1\n",
    "    * 000078-79-5_group2\n",
    "    * 000149-57-5_group1\n",
    "* LASSO's that matched were:\n",
    "    * 001762-27-2_group1       -0.556759    0.573063\n",
    "    * 000098-86-2_group2       -0.129680    0.878376\n",
    "    * 001074-43-7_group1       -0.346248    0.707337\n",
    "    * 000078-79-5_group2       -0.295506    0.744155\n",
    "    * but did not include the 5th that SVM-RFE chose\n",
    "\n",
    "This similiarity makes sense, as these are, ideally, impactful predictors."
   ]
  },
  {
   "cell_type": "markdown",
   "id": "b47d6484-891d-401c-9c2a-0a98f13ef574",
   "metadata": {},
   "source": [
    "****LASSO Based On SVM-RFE Features****"
   ]
  },
  {
   "cell_type": "code",
   "execution_count": 88,
   "id": "fdf42cc8-2331-4a53-8c68-743f5469813f",
   "metadata": {
    "execution": {
     "iopub.execute_input": "2025-05-15T14:29:51.466930Z",
     "iopub.status.busy": "2025-05-15T14:29:51.466061Z",
     "iopub.status.idle": "2025-05-15T14:29:51.549156Z",
     "shell.execute_reply": "2025-05-15T14:29:51.548829Z",
     "shell.execute_reply.started": "2025-05-15T14:29:51.466870Z"
    }
   },
   "outputs": [
    {
     "name": "stdout",
     "output_type": "stream",
     "text": [
      "Mean ROC-AUC (LASSO on SVM-RFE): 0.8565 ± 0.0200\n",
      "\n",
      "LASSO-on-RFE selected features with odds ratios:\n",
      "                    Log-Odds Coef  Odds Ratio\n",
      "000078-79-5_group2      -0.282566    0.753847\n",
      "000098-86-2_group2      -0.378170    0.685114\n",
      "001074-43-7_group1      -0.417778    0.658508\n",
      "001762-27-2_group1      -0.809627    0.445024\n"
     ]
    },
    {
     "data": {
      "image/png": "[encoded data removed]",
      "text/plain": [
       "<Figure size 640x480 with 1 Axes>"
      ]
     },
     "metadata": {},
     "output_type": "display_data"
    }
   ],
   "source": [
    "# SVM-RFE selected features:\n",
    "\n",
    "selected_features = [\n",
    "    '001762-27-2_group1',\n",
    "    '000098-86-2_group2',\n",
    "    '001074-43-7_group1',\n",
    "    '000078-79-5_group2',\n",
    "    '000149-57-5_group1']\n",
    "\n",
    "X_sub = df_main[selected_features]\n",
    "y = df_main[\"TB Status\"]  # this hasn't changed\n",
    "\n",
    "lasso = LogisticRegression(penalty='l1', solver='liblinear', C=0.1, max_iter=10000)  # same penalty as previous LASSO\n",
    "\n",
    "# CV performance\n",
    "cv = StratifiedKFold(n_splits=5, shuffle=True, random_state=42)\n",
    "scores = cross_val_score(lasso, X_sub, y, cv=cv, scoring=\"roc_auc\")\n",
    "print(f\"Mean ROC-AUC (LASSO on SVM-RFE): {scores.mean():.4f} ± {scores.std():.4f}\")\n",
    "\n",
    "# Fit final model\n",
    "lasso.fit(X_sub, y)\n",
    "\n",
    "# coefficients and odds ratios\n",
    "coefs = pd.Series(lasso.coef_[0], index=X_sub.columns)\n",
    "nonzero_coefs = coefs[coefs != 0]\n",
    "odds_ratios = np.exp(nonzero_coefs)\n",
    "\n",
    "# report\n",
    "summary_df = pd.DataFrame({\n",
    "    \"Log-Odds Coef\": nonzero_coefs,\n",
    "    \"Odds Ratio\": odds_ratios\n",
    "}).sort_values(\"Odds Ratio\", ascending=False)\n",
    "\n",
    "print(\"\\nLASSO-on-RFE selected features with odds ratios:\")\n",
    "print(summary_df)\n",
    "\n",
    "# Visualize\n",
    "summary_df[\"Odds Ratio\"].sort_values().plot(kind='barh')\n",
    "plt.title(\"LASSO on SVM-RFE Features: Odds Ratios\")\n",
    "plt.xlabel(\"Odds Ratio\")\n",
    "plt.tight_layout()\n",
    "plt.show()"
   ]
  },
  {
   "cell_type": "markdown",
   "id": "5131208d-07e4-487f-815c-a69220a3670b",
   "metadata": {},
   "source": [
    "So, 000149-57-5_group1 was dropped as it was not found important by LASSO"
   ]
  },
  {
   "cell_type": "markdown",
   "id": "df6a9906-88d6-4495-a49d-7cf500d2c839",
   "metadata": {},
   "source": [
    "**TODO** \n",
    "\n",
    "* Plot ROC Curves for each model\n",
    "* "
   ]
  },
  {
   "cell_type": "code",
   "execution_count": null,
   "id": "e8be29bd-b8c1-4128-a154-87feb24c8d9a",
   "metadata": {},
   "outputs": [],
   "source": []
  }
 ],
 "metadata": {
  "kernelspec": {
   "display_name": "Python 3 (ipykernel)",
   "language": "python",
   "name": "python3"
  },
  "language_info": {
   "codemirror_mode": {
    "name": "ipython",
    "version": 3
   },
   "file_extension": ".py",
   "mimetype": "text/x-python",
   "name": "python",
   "nbconvert_exporter": "python",
   "pygments_lexer": "ipython3",
   "version": "3.10.11"
  }
 },
 "nbformat": 4,
 "nbformat_minor": 5
}
