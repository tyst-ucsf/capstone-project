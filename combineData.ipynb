{
 "cells": [
  {
   "cell_type": "markdown",
   "id": "bc3af308-512a-44a7-92de-2b177695cb73",
   "metadata": {},
   "source": [
    "This notebook is for combining all of the RESULTS.CSV files across all participant folders"
   ]
  },
  {
   "cell_type": "markdown",
   "id": "d17ee3a8-713c-4787-9bd2-332486c998bb",
   "metadata": {},
   "source": [
    "Plan: Cycle through all of the folders, obtain name and other rows, add this to a dataframe, then export this as a giant csv"
   ]
  },
  {
   "cell_type": "markdown",
   "id": "05fbfdb7-d815-4083-ae9c-4136c398c147",
   "metadata": {},
   "source": [
    "Will also then go in and add if it was TB- or TB+ based on Excel sheet I already have"
   ]
  },
  {
   "cell_type": "code",
   "execution_count": null,
   "id": "3b0af3d9-9b34-48e1-9f19-6386c9853e9d",
   "metadata": {
    "execution": {
     "iopub.execute_input": "2025-03-23T21:09:42.204071Z",
     "iopub.status.busy": "2025-03-23T21:09:42.202360Z",
     "iopub.status.idle": "2025-03-23T21:09:42.731882Z",
     "shell.execute_reply": "2025-03-23T21:09:42.731608Z",
     "shell.execute_reply.started": "2025-03-23T21:09:42.203994Z"
    }
   },
   "outputs": [],
   "source": [
    "import os\n",
    "import pandas as pd\n",
    "\n",
    "# generating blank df\n",
    "df_main = pd.DataFrame(\n",
    "    {\"PID\": [], \"CAS\": [], \"ID\": [], \"RT\": [], \"AreaPct\": []}\n",
    "    )\n",
    "\n",
    "print(df_main)  # checking\n",
    "\n",
    "parent_folder = '/Users/tylerstepaniak/Library/Mobile Documents/com~apple~CloudDocs/IGHS/Capstone/Data/1D GC Files Adults.nosync'\n",
    "dfs = []\n",
    "\n",
    "# Walk through all subdirectories of the parent folder\n",
    "for root, dirs, files in os.walk(parent_folder): \n",
    "    if 'RESULTS.CSV' in files:\n",
    "        file_path = os.path.join(root, 'RESULTS.CSV')\n",
    "        try:\n",
    "            df = pd.read_csv(file_path, skiprows=7, header=None)  # reads from column 8, down.\n",
    "            subset = df.iloc[:, 1:8].copy()  # grabs columns B to H\n",
    "            subset.columns = [\"PK\", \"RT\", \"Area Pct\", \"Library/ID\", \"Ref\", \"CAS\", \"Qual\"]\n",
    "            subset[\"PID\"] = os.path.basename(root)  # grabs PID\n",
    "            dfs.append(subset)\n",
    "        except Exception as e:\n",
    "            print(f'Error reading {file_path}: {e}')\n",
    "\n",
    "# adds everything to one DF\n",
    "if dfs:\n",
    "    final_df = pd.concat(dfs, ignore_index=True)\n",
    "    final_df = final_df.sort_values(by=[\"PID\", \"PK\"])\n",
    "    print(final_df)\n",
    "    final_df.to_csv('final_output.csv', index=False)  # pushes to csv file\n",
    "else:\n",
    "    print(\"Something went wrong, go grab a coffee\")"
   ]
  },
  {
   "cell_type": "markdown",
   "id": "1ac1960f-9815-432b-ba09-70825c601ce9",
   "metadata": {},
   "source": [
    "TODO: Go through data again, there are repeats... still..."
   ]
  }
 ],
 "metadata": {
  "kernelspec": {
   "display_name": "Python 3 (ipykernel)",
   "language": "python",
   "name": "python3"
  },
  "language_info": {
   "codemirror_mode": {
    "name": "ipython",
    "version": 3
   },
   "file_extension": ".py",
   "mimetype": "text/x-python",
   "name": "python",
   "nbconvert_exporter": "python",
   "pygments_lexer": "ipython3",
   "version": "3.10.11"
  }
 },
 "nbformat": 4,
 "nbformat_minor": 5
}
