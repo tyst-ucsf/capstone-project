{
 "cells": [
  {
   "cell_type": "markdown",
   "id": "9d79c2d0-f3e7-44e3-ba96-9e2677b71502",
   "metadata": {},
   "source": [
    "This notebook is for peak matching and pivoting the df from long to wide format for ML"
   ]
  },
  {
   "cell_type": "code",
   "execution_count": null,
   "id": "48fa4dd7-fe08-4bd9-a7c3-efb2afc09b35",
   "metadata": {},
   "outputs": [],
   "source": [
    "import pandas as pd\n",
    "\n",
    "df_main = pd.read_csv('Desktop/Jupyter Area/capstone-project/df_main1.csv')\n",
    "\n",
    "# Checking for NAs and Nulls\n",
    "print('CAS Null Count')\n",
    "print(df_main['CAS'].isnull().sum())\n",
    "print('CAS NA Count')\n",
    "print(df_main['CAS'].isna().sum())\n",
    "print('ID Null Count')\n",
    "print(df_main['ID'].isnull().sum())\n",
    "print('ID NA Count')\n",
    "print(df_main['ID'].isna().sum())\n",
    "\n",
    "# If there are, filter them out?\n",
    "\n",
    "# Group peaks by CAS and RT values\n",
    "    # same CAS might show up at different RT so they should be separate features\n",
    "        #  Column bleed, isomer, co-elutions\n",
    "\n",
    "# Create unique PeakID (CAS+RT)\n",
    "\n",
    "# Keep representative RTs for reporting\n",
    "    # sure, you'll know the CAS, but it will just say group1 or group2 etc and you'll want to know the RT of that group\n",
    "\n",
    "# Pivot time"
   ]
  }
 ],
 "metadata": {
  "kernelspec": {
   "display_name": "Python 3 (ipykernel)",
   "language": "python",
   "name": "python3"
  },
  "language_info": {
   "codemirror_mode": {
    "name": "ipython",
    "version": 3
   },
   "file_extension": ".py",
   "mimetype": "text/x-python",
   "name": "python",
   "nbconvert_exporter": "python",
   "pygments_lexer": "ipython3",
   "version": "3.10.11"
  }
 },
 "nbformat": 4,
 "nbformat_minor": 5
}
