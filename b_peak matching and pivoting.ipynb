{
 "cells": [
  {
   "cell_type": "markdown",
   "id": "9d79c2d0-f3e7-44e3-ba96-9e2677b71502",
   "metadata": {},
   "source": [
    "This notebook is for peak matching and pivoting the df from long to wide format for ML"
   ]
  },
  {
   "cell_type": "code",
   "execution_count": null,
   "id": "48fa4dd7-fe08-4bd9-a7c3-efb2afc09b35",
   "metadata": {
    "editable": true,
    "slideshow": {
     "slide_type": ""
    },
    "tags": []
   },
   "outputs": [],
   "source": [
    "import pandas as pd\n",
    "\n",
    "df_main1 = pd.read_csv('Desktop/Jupyter Area/capstone-project/df_main1.csv')\n",
    "\n",
    "# Checking for NAs and Nulls\n",
    "print('CAS Null Count')\n",
    "print(df_main1['CAS'].isnull().sum())\n",
    "print('CAS NA Count')\n",
    "print(df_main1['CAS'].isna().sum())\n",
    "print('ID Null Count')\n",
    "print(df_main1['ID'].isnull().sum())\n",
    "print('ID NA Count')\n",
    "print(df_main1['ID'].isna().sum())\n",
    "\n",
    "# If there are, filter them out?\n",
    "##################################################################################"
   ]
  },
  {
   "cell_type": "code",
   "execution_count": null,
   "id": "318c87df-9dca-4779-b9cc-c1e3adddd076",
   "metadata": {
    "editable": true,
    "slideshow": {
     "slide_type": ""
    },
    "tags": []
   },
   "outputs": [],
   "source": [
    "# Group peaks by CAS and RT values\n",
    "    # same CAS might show up at different RT so they should be separate features\n",
    "    #  Column bleed, isomer, co-elutions\n",
    "df_temp = df_main1.sort_values(by=['CAS', 'RT']).reset_index(drop=True)\n",
    "\n",
    "# Tolerance level from literature\n",
    "rt_tolerance = 0.2\n",
    "\n",
    "\n",
    "# assign a peak group within each CAS\n",
    "def rt_group(group):\n",
    "    rt_groups = []\n",
    "    current_group = 0\n",
    "    last_rt = None\n",
    "\n",
    "    for rt in group['RT']:\n",
    "        if last_rt is None or abs((rt - last_rt)) > rt_tolerance:\n",
    "            current_group += 1\n",
    "        rt_groups.append(current_group)\n",
    "        last_rt = rt\n",
    "\n",
    "    group['RT_Group'] = rt_groups\n",
    "    return group\n",
    "\n",
    "\n",
    "df_temp = df_temp.groupby('CAS', group_keys=False).apply(rt_group)  # Apply grouping by CAS\n",
    "\n",
    "# Create unique PeakID (CAS+RT)\n",
    "df_temp['Feature_ID'] = df_temp['CAS'] + '_group' + df_temp['RT_Group'].astype(str)\n",
    "\n",
    "# Keep representative RTs for reporting\n",
    "    # sure, you'll know the CAS, but it will just say group1 or group2 etc and you'll want to know the RT of that group\n",
    "df_CAS_Group_LUT = df_temp.groupby(['Feature_ID', 'CAS'])['RT'].mean().reset_index()\n",
    "df_CAS_Group_LUT.columns = ['Feature_ID', 'CAS', 'Mean_RT']"
   ]
  },
  {
   "cell_type": "code",
   "execution_count": null,
   "id": "7c77c53b-6698-4e00-8239-390a1e8077b4",
   "metadata": {},
   "outputs": [],
   "source": [
    "# Pivot time\n",
    "df_pivot = df_temp.pivot_table(\n",
    "    index='PID',\n",
    "    columns='Feature_ID',\n",
    "    values='Area Pct',\n",
    "    aggfunc='first'  # or 'mean' if duplicates\n",
    ").reset_index()\n",
    "\n",
    "# Merging Demographics back in\n",
    "df_main2 = df_pivot.merge(\n",
    "    df_main1[['PID', 'TB Status', 'Age', 'BMI', 'HIV Status']].drop_duplicates(),\n",
    "    on='PID',\n",
    "    how='left'\n",
    ")\n",
    "\n",
    "# Saving\n",
    "df_main2.to_csv('df_main2.csv', index=False)\n",
    "df_CAS_Group_LUT.to_csv('df_CAS_Group_LUT.csv', index=False)"
   ]
  }
 ],
 "metadata": {
  "kernelspec": {
   "display_name": "Python 3 (ipykernel)",
   "language": "python",
   "name": "python3"
  },
  "language_info": {
   "codemirror_mode": {
    "name": "ipython",
    "version": 3
   },
   "file_extension": ".py",
   "mimetype": "text/x-python",
   "name": "python",
   "nbconvert_exporter": "python",
   "pygments_lexer": "ipython3",
   "version": "3.10.11"
  }
 },
 "nbformat": 4,
 "nbformat_minor": 5
}
