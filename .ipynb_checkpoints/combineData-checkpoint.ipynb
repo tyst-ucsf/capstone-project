{
 "cells": [
  {
   "cell_type": "markdown",
   "id": "bc3af308-512a-44a7-92de-2b177695cb73",
   "metadata": {},
   "source": [
    "This notebook is for combining all of the RESULTS.CSV files across all participant folders"
   ]
  },
  {
   "cell_type": "markdown",
   "id": "d17ee3a8-713c-4787-9bd2-332486c998bb",
   "metadata": {},
   "source": [
    "Plan: Cycle through all of the folders, obtain name and other rows, add this to a dataframe, then export this as a giant csv"
   ]
  },
  {
   "cell_type": "markdown",
   "id": "05fbfdb7-d815-4083-ae9c-4136c398c147",
   "metadata": {},
   "source": [
    "Will also then go in and add if it was TB- or TB+ based on Excel sheet I already have"
   ]
  }
 ],
 "metadata": {
  "kernelspec": {
   "display_name": "Python 3 (ipykernel)",
   "language": "python",
   "name": "python3"
  },
  "language_info": {
   "codemirror_mode": {
    "name": "ipython",
    "version": 3
   },
   "file_extension": ".py",
   "mimetype": "text/x-python",
   "name": "python",
   "nbconvert_exporter": "python",
   "pygments_lexer": "ipython3",
   "version": "3.10.11"
  }
 },
 "nbformat": 4,
 "nbformat_minor": 5
}
