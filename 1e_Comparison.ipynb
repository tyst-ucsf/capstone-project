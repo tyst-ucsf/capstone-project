{
 "cells": [
  {
   "cell_type": "markdown",
   "id": "81e41bea-cace-4df1-825f-8e1243b44560",
   "metadata": {
    "execution": {
     "iopub.execute_input": "2025-05-26T10:45:00.363684Z",
     "iopub.status.busy": "2025-05-26T10:45:00.362970Z",
     "iopub.status.idle": "2025-05-26T10:45:00.375661Z",
     "shell.execute_reply": "2025-05-26T10:45:00.374048Z",
     "shell.execute_reply.started": "2025-05-26T10:45:00.363637Z"
    }
   },
   "source": []
  }
 ],
 "metadata": {
  "kernelspec": {
   "display_name": "Python 3 (ipykernel)",
   "language": "python",
   "name": "python3"
  },
  "language_info": {
   "codemirror_mode": {
    "name": "ipython",
    "version": 3
   },
   "file_extension": ".py",
   "mimetype": "text/x-python",
   "name": "python",
   "nbconvert_exporter": "python",
   "pygments_lexer": "ipython3",
   "version": "3.10.11"
  }
 },
 "nbformat": 4,
 "nbformat_minor": 5
}
