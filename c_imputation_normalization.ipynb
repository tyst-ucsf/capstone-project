{
 "cells": [
  {
   "cell_type": "markdown",
   "id": "35a49adc-9e2d-47d6-9dc5-c060a1b90b13",
   "metadata": {},
   "source": [
    "Imputation, Normalization, maybe Z score?"
   ]
  },
  {
   "cell_type": "markdown",
   "id": "8c2a74f4-bb3e-46a6-9a2b-3e3185ca4a43",
   "metadata": {},
   "source": [
    "Visualizing Missingness"
   ]
  },
  {
   "cell_type": "code",
   "execution_count": null,
   "id": "01ca1799-0e19-4fc3-ad31-9f4ee89f280d",
   "metadata": {
    "editable": true,
    "slideshow": {
     "slide_type": ""
    },
    "tags": []
   },
   "outputs": [],
   "source": [
    "import pandas as pd\n",
    "import matplotlib.pyplot as plt\n",
    "import seaborn as sns"
   ]
  }
 ],
 "metadata": {
  "kernelspec": {
   "display_name": "Python 3 (ipykernel)",
   "language": "python",
   "name": "python3"
  },
  "language_info": {
   "codemirror_mode": {
    "name": "ipython",
    "version": 3
   },
   "file_extension": ".py",
   "mimetype": "text/x-python",
   "name": "python",
   "nbconvert_exporter": "python",
   "pygments_lexer": "ipython3",
   "version": "3.10.11"
  }
 },
 "nbformat": 4,
 "nbformat_minor": 5
}
